{
  "nbformat": 4,
  "nbformat_minor": 0,
  "metadata": {
    "colab": {
      "name": "Tensorflow_keras.ipynb",
      "provenance": [],
      "include_colab_link": true
    },
    "kernelspec": {
      "name": "python3",
      "display_name": "Python 3"
    },
    "language_info": {
      "name": "python"
    }
  },
  "cells": [
    {
      "cell_type": "markdown",
      "metadata": {
        "id": "view-in-github",
        "colab_type": "text"
      },
      "source": [
        "<a href=\"https://colab.research.google.com/github/priyanshurishi/Tensorflow-Keras/blob/main/Tensorflow_keras.ipynb\" target=\"_parent\"><img src=\"https://colab.research.google.com/assets/colab-badge.svg\" alt=\"Open In Colab\"/></a>"
      ]
    },
    {
      "cell_type": "code",
      "metadata": {
        "id": "WXSKTSx11Azl"
      },
      "source": [
        "import pandas as pd\n",
        "import numpy as np\n",
        "import matplotlib.pyplot as plt\n",
        "import seaborn as sns\n",
        "%matplotlib inline"
      ],
      "execution_count": null,
      "outputs": []
    },
    {
      "cell_type": "code",
      "metadata": {
        "colab": {
          "base_uri": "https://localhost:8080/",
          "height": 278
        },
        "id": "3rQz9vVK2DxW",
        "outputId": "9125f424-c745-4950-f44f-91a8f07f4c84"
      },
      "source": [
        "df=pd.read_csv(\"/content/train.csv\")\n",
        "df.head()"
      ],
      "execution_count": null,
      "outputs": [
        {
          "output_type": "execute_result",
          "data": {
            "text/html": [
              "<div>\n",
              "<style scoped>\n",
              "    .dataframe tbody tr th:only-of-type {\n",
              "        vertical-align: middle;\n",
              "    }\n",
              "\n",
              "    .dataframe tbody tr th {\n",
              "        vertical-align: top;\n",
              "    }\n",
              "\n",
              "    .dataframe thead th {\n",
              "        text-align: right;\n",
              "    }\n",
              "</style>\n",
              "<table border=\"1\" class=\"dataframe\">\n",
              "  <thead>\n",
              "    <tr style=\"text-align: right;\">\n",
              "      <th></th>\n",
              "      <th>POSTED_BY</th>\n",
              "      <th>UNDER_CONSTRUCTION</th>\n",
              "      <th>RERA</th>\n",
              "      <th>BHK_NO.</th>\n",
              "      <th>BHK_OR_RK</th>\n",
              "      <th>SQUARE_FT</th>\n",
              "      <th>READY_TO_MOVE</th>\n",
              "      <th>RESALE</th>\n",
              "      <th>ADDRESS</th>\n",
              "      <th>LONGITUDE</th>\n",
              "      <th>LATITUDE</th>\n",
              "      <th>TARGET(PRICE_IN_LACS)</th>\n",
              "    </tr>\n",
              "  </thead>\n",
              "  <tbody>\n",
              "    <tr>\n",
              "      <th>0</th>\n",
              "      <td>Owner</td>\n",
              "      <td>0</td>\n",
              "      <td>0</td>\n",
              "      <td>2</td>\n",
              "      <td>BHK</td>\n",
              "      <td>1300.236407</td>\n",
              "      <td>1</td>\n",
              "      <td>1</td>\n",
              "      <td>Ksfc Layout,Bangalore</td>\n",
              "      <td>12.969910</td>\n",
              "      <td>77.597960</td>\n",
              "      <td>55.0</td>\n",
              "    </tr>\n",
              "    <tr>\n",
              "      <th>1</th>\n",
              "      <td>Dealer</td>\n",
              "      <td>0</td>\n",
              "      <td>0</td>\n",
              "      <td>2</td>\n",
              "      <td>BHK</td>\n",
              "      <td>1275.000000</td>\n",
              "      <td>1</td>\n",
              "      <td>1</td>\n",
              "      <td>Vishweshwara Nagar,Mysore</td>\n",
              "      <td>12.274538</td>\n",
              "      <td>76.644605</td>\n",
              "      <td>51.0</td>\n",
              "    </tr>\n",
              "    <tr>\n",
              "      <th>2</th>\n",
              "      <td>Owner</td>\n",
              "      <td>0</td>\n",
              "      <td>0</td>\n",
              "      <td>2</td>\n",
              "      <td>BHK</td>\n",
              "      <td>933.159722</td>\n",
              "      <td>1</td>\n",
              "      <td>1</td>\n",
              "      <td>Jigani,Bangalore</td>\n",
              "      <td>12.778033</td>\n",
              "      <td>77.632191</td>\n",
              "      <td>43.0</td>\n",
              "    </tr>\n",
              "    <tr>\n",
              "      <th>3</th>\n",
              "      <td>Owner</td>\n",
              "      <td>0</td>\n",
              "      <td>1</td>\n",
              "      <td>2</td>\n",
              "      <td>BHK</td>\n",
              "      <td>929.921143</td>\n",
              "      <td>1</td>\n",
              "      <td>1</td>\n",
              "      <td>Sector-1 Vaishali,Ghaziabad</td>\n",
              "      <td>28.642300</td>\n",
              "      <td>77.344500</td>\n",
              "      <td>62.5</td>\n",
              "    </tr>\n",
              "    <tr>\n",
              "      <th>4</th>\n",
              "      <td>Dealer</td>\n",
              "      <td>1</td>\n",
              "      <td>0</td>\n",
              "      <td>2</td>\n",
              "      <td>BHK</td>\n",
              "      <td>999.009247</td>\n",
              "      <td>0</td>\n",
              "      <td>1</td>\n",
              "      <td>New Town,Kolkata</td>\n",
              "      <td>22.592200</td>\n",
              "      <td>88.484911</td>\n",
              "      <td>60.5</td>\n",
              "    </tr>\n",
              "  </tbody>\n",
              "</table>\n",
              "</div>"
            ],
            "text/plain": [
              "  POSTED_BY  UNDER_CONSTRUCTION  ...   LATITUDE  TARGET(PRICE_IN_LACS)\n",
              "0     Owner                   0  ...  77.597960                   55.0\n",
              "1    Dealer                   0  ...  76.644605                   51.0\n",
              "2     Owner                   0  ...  77.632191                   43.0\n",
              "3     Owner                   0  ...  77.344500                   62.5\n",
              "4    Dealer                   1  ...  88.484911                   60.5\n",
              "\n",
              "[5 rows x 12 columns]"
            ]
          },
          "metadata": {},
          "execution_count": 225
        }
      ]
    },
    {
      "cell_type": "code",
      "metadata": {
        "colab": {
          "base_uri": "https://localhost:8080/",
          "height": 513
        },
        "id": "BuOZF8hPQWk-",
        "outputId": "b8a04f5c-2587-4e3d-c765-c711ce16c509"
      },
      "source": [
        "df"
      ],
      "execution_count": null,
      "outputs": [
        {
          "output_type": "execute_result",
          "data": {
            "text/html": [
              "<div>\n",
              "<style scoped>\n",
              "    .dataframe tbody tr th:only-of-type {\n",
              "        vertical-align: middle;\n",
              "    }\n",
              "\n",
              "    .dataframe tbody tr th {\n",
              "        vertical-align: top;\n",
              "    }\n",
              "\n",
              "    .dataframe thead th {\n",
              "        text-align: right;\n",
              "    }\n",
              "</style>\n",
              "<table border=\"1\" class=\"dataframe\">\n",
              "  <thead>\n",
              "    <tr style=\"text-align: right;\">\n",
              "      <th></th>\n",
              "      <th>POSTED_BY</th>\n",
              "      <th>UNDER_CONSTRUCTION</th>\n",
              "      <th>RERA</th>\n",
              "      <th>BHK_NO.</th>\n",
              "      <th>BHK_OR_RK</th>\n",
              "      <th>SQUARE_FT</th>\n",
              "      <th>READY_TO_MOVE</th>\n",
              "      <th>RESALE</th>\n",
              "      <th>ADDRESS</th>\n",
              "      <th>LONGITUDE</th>\n",
              "      <th>LATITUDE</th>\n",
              "      <th>TARGET(PRICE_IN_LACS)</th>\n",
              "    </tr>\n",
              "  </thead>\n",
              "  <tbody>\n",
              "    <tr>\n",
              "      <th>0</th>\n",
              "      <td>Owner</td>\n",
              "      <td>0</td>\n",
              "      <td>0</td>\n",
              "      <td>2</td>\n",
              "      <td>BHK</td>\n",
              "      <td>1300.236407</td>\n",
              "      <td>1</td>\n",
              "      <td>1</td>\n",
              "      <td>Ksfc Layout,Bangalore</td>\n",
              "      <td>12.969910</td>\n",
              "      <td>77.597960</td>\n",
              "      <td>55.0</td>\n",
              "    </tr>\n",
              "    <tr>\n",
              "      <th>1</th>\n",
              "      <td>Dealer</td>\n",
              "      <td>0</td>\n",
              "      <td>0</td>\n",
              "      <td>2</td>\n",
              "      <td>BHK</td>\n",
              "      <td>1275.000000</td>\n",
              "      <td>1</td>\n",
              "      <td>1</td>\n",
              "      <td>Vishweshwara Nagar,Mysore</td>\n",
              "      <td>12.274538</td>\n",
              "      <td>76.644605</td>\n",
              "      <td>51.0</td>\n",
              "    </tr>\n",
              "    <tr>\n",
              "      <th>2</th>\n",
              "      <td>Owner</td>\n",
              "      <td>0</td>\n",
              "      <td>0</td>\n",
              "      <td>2</td>\n",
              "      <td>BHK</td>\n",
              "      <td>933.159722</td>\n",
              "      <td>1</td>\n",
              "      <td>1</td>\n",
              "      <td>Jigani,Bangalore</td>\n",
              "      <td>12.778033</td>\n",
              "      <td>77.632191</td>\n",
              "      <td>43.0</td>\n",
              "    </tr>\n",
              "    <tr>\n",
              "      <th>3</th>\n",
              "      <td>Owner</td>\n",
              "      <td>0</td>\n",
              "      <td>1</td>\n",
              "      <td>2</td>\n",
              "      <td>BHK</td>\n",
              "      <td>929.921143</td>\n",
              "      <td>1</td>\n",
              "      <td>1</td>\n",
              "      <td>Sector-1 Vaishali,Ghaziabad</td>\n",
              "      <td>28.642300</td>\n",
              "      <td>77.344500</td>\n",
              "      <td>62.5</td>\n",
              "    </tr>\n",
              "    <tr>\n",
              "      <th>4</th>\n",
              "      <td>Dealer</td>\n",
              "      <td>1</td>\n",
              "      <td>0</td>\n",
              "      <td>2</td>\n",
              "      <td>BHK</td>\n",
              "      <td>999.009247</td>\n",
              "      <td>0</td>\n",
              "      <td>1</td>\n",
              "      <td>New Town,Kolkata</td>\n",
              "      <td>22.592200</td>\n",
              "      <td>88.484911</td>\n",
              "      <td>60.5</td>\n",
              "    </tr>\n",
              "    <tr>\n",
              "      <th>...</th>\n",
              "      <td>...</td>\n",
              "      <td>...</td>\n",
              "      <td>...</td>\n",
              "      <td>...</td>\n",
              "      <td>...</td>\n",
              "      <td>...</td>\n",
              "      <td>...</td>\n",
              "      <td>...</td>\n",
              "      <td>...</td>\n",
              "      <td>...</td>\n",
              "      <td>...</td>\n",
              "      <td>...</td>\n",
              "    </tr>\n",
              "    <tr>\n",
              "      <th>29446</th>\n",
              "      <td>Owner</td>\n",
              "      <td>0</td>\n",
              "      <td>0</td>\n",
              "      <td>3</td>\n",
              "      <td>BHK</td>\n",
              "      <td>2500.000000</td>\n",
              "      <td>1</td>\n",
              "      <td>1</td>\n",
              "      <td>Shamshabad Road,Agra</td>\n",
              "      <td>27.140626</td>\n",
              "      <td>78.043277</td>\n",
              "      <td>45.0</td>\n",
              "    </tr>\n",
              "    <tr>\n",
              "      <th>29447</th>\n",
              "      <td>Owner</td>\n",
              "      <td>0</td>\n",
              "      <td>0</td>\n",
              "      <td>2</td>\n",
              "      <td>BHK</td>\n",
              "      <td>769.230769</td>\n",
              "      <td>1</td>\n",
              "      <td>1</td>\n",
              "      <td>E3-108, Lake View Recidency,,Vapi</td>\n",
              "      <td>39.945409</td>\n",
              "      <td>-86.150721</td>\n",
              "      <td>16.0</td>\n",
              "    </tr>\n",
              "    <tr>\n",
              "      <th>29448</th>\n",
              "      <td>Dealer</td>\n",
              "      <td>0</td>\n",
              "      <td>0</td>\n",
              "      <td>2</td>\n",
              "      <td>BHK</td>\n",
              "      <td>1022.641509</td>\n",
              "      <td>1</td>\n",
              "      <td>1</td>\n",
              "      <td>Ajmer Road,Jaipur</td>\n",
              "      <td>26.928785</td>\n",
              "      <td>75.828002</td>\n",
              "      <td>27.1</td>\n",
              "    </tr>\n",
              "    <tr>\n",
              "      <th>29449</th>\n",
              "      <td>Owner</td>\n",
              "      <td>0</td>\n",
              "      <td>0</td>\n",
              "      <td>2</td>\n",
              "      <td>BHK</td>\n",
              "      <td>927.079009</td>\n",
              "      <td>1</td>\n",
              "      <td>1</td>\n",
              "      <td>Sholinganallur,Chennai</td>\n",
              "      <td>12.900150</td>\n",
              "      <td>80.227910</td>\n",
              "      <td>67.0</td>\n",
              "    </tr>\n",
              "    <tr>\n",
              "      <th>29450</th>\n",
              "      <td>Dealer</td>\n",
              "      <td>0</td>\n",
              "      <td>1</td>\n",
              "      <td>2</td>\n",
              "      <td>BHK</td>\n",
              "      <td>896.774194</td>\n",
              "      <td>1</td>\n",
              "      <td>1</td>\n",
              "      <td>Jagatpura,Jaipur</td>\n",
              "      <td>26.832353</td>\n",
              "      <td>75.841749</td>\n",
              "      <td>27.8</td>\n",
              "    </tr>\n",
              "  </tbody>\n",
              "</table>\n",
              "<p>29451 rows × 12 columns</p>\n",
              "</div>"
            ],
            "text/plain": [
              "      POSTED_BY  UNDER_CONSTRUCTION  ...   LATITUDE  TARGET(PRICE_IN_LACS)\n",
              "0         Owner                   0  ...  77.597960                   55.0\n",
              "1        Dealer                   0  ...  76.644605                   51.0\n",
              "2         Owner                   0  ...  77.632191                   43.0\n",
              "3         Owner                   0  ...  77.344500                   62.5\n",
              "4        Dealer                   1  ...  88.484911                   60.5\n",
              "...         ...                 ...  ...        ...                    ...\n",
              "29446     Owner                   0  ...  78.043277                   45.0\n",
              "29447     Owner                   0  ... -86.150721                   16.0\n",
              "29448    Dealer                   0  ...  75.828002                   27.1\n",
              "29449     Owner                   0  ...  80.227910                   67.0\n",
              "29450    Dealer                   0  ...  75.841749                   27.8\n",
              "\n",
              "[29451 rows x 12 columns]"
            ]
          },
          "metadata": {},
          "execution_count": 226
        }
      ]
    },
    {
      "cell_type": "code",
      "metadata": {
        "colab": {
          "base_uri": "https://localhost:8080/"
        },
        "id": "Zuxjk2ES2bsy",
        "outputId": "3bae7ab7-e090-4f00-eb1b-f9f725f82bd8"
      },
      "source": [
        "df.info()"
      ],
      "execution_count": null,
      "outputs": [
        {
          "output_type": "stream",
          "name": "stdout",
          "text": [
            "<class 'pandas.core.frame.DataFrame'>\n",
            "RangeIndex: 29451 entries, 0 to 29450\n",
            "Data columns (total 12 columns):\n",
            " #   Column                 Non-Null Count  Dtype  \n",
            "---  ------                 --------------  -----  \n",
            " 0   POSTED_BY              29451 non-null  object \n",
            " 1   UNDER_CONSTRUCTION     29451 non-null  int64  \n",
            " 2   RERA                   29451 non-null  int64  \n",
            " 3   BHK_NO.                29451 non-null  int64  \n",
            " 4   BHK_OR_RK              29451 non-null  object \n",
            " 5   SQUARE_FT              29451 non-null  float64\n",
            " 6   READY_TO_MOVE          29451 non-null  int64  \n",
            " 7   RESALE                 29451 non-null  int64  \n",
            " 8   ADDRESS                29451 non-null  object \n",
            " 9   LONGITUDE              29451 non-null  float64\n",
            " 10  LATITUDE               29451 non-null  float64\n",
            " 11  TARGET(PRICE_IN_LACS)  29451 non-null  float64\n",
            "dtypes: float64(4), int64(5), object(3)\n",
            "memory usage: 2.7+ MB\n"
          ]
        }
      ]
    },
    {
      "cell_type": "code",
      "metadata": {
        "colab": {
          "base_uri": "https://localhost:8080/"
        },
        "id": "uMfxfQ5y2oVo",
        "outputId": "ee1495cd-80c7-4235-cd22-c481d54c7bd3"
      },
      "source": [
        "df.isnull().sum()"
      ],
      "execution_count": null,
      "outputs": [
        {
          "output_type": "execute_result",
          "data": {
            "text/plain": [
              "POSTED_BY                0\n",
              "UNDER_CONSTRUCTION       0\n",
              "RERA                     0\n",
              "BHK_NO.                  0\n",
              "BHK_OR_RK                0\n",
              "SQUARE_FT                0\n",
              "READY_TO_MOVE            0\n",
              "RESALE                   0\n",
              "ADDRESS                  0\n",
              "LONGITUDE                0\n",
              "LATITUDE                 0\n",
              "TARGET(PRICE_IN_LACS)    0\n",
              "dtype: int64"
            ]
          },
          "metadata": {},
          "execution_count": 228
        }
      ]
    },
    {
      "cell_type": "code",
      "metadata": {
        "colab": {
          "base_uri": "https://localhost:8080/"
        },
        "id": "Ws_oeA0451bx",
        "outputId": "336b0e13-fc54-4e76-ae9e-d3af3dd7467f"
      },
      "source": [
        "df.dropna(inplace=True)\n",
        "df=df.drop(['BHK_OR_RK','ADDRESS','READY_TO_MOVE'], axis=1)\n",
        "df.columns\n"
      ],
      "execution_count": null,
      "outputs": [
        {
          "output_type": "execute_result",
          "data": {
            "text/plain": [
              "Index(['POSTED_BY', 'UNDER_CONSTRUCTION', 'RERA', 'BHK_NO.', 'SQUARE_FT',\n",
              "       'RESALE', 'LONGITUDE', 'LATITUDE', 'TARGET(PRICE_IN_LACS)'],\n",
              "      dtype='object')"
            ]
          },
          "metadata": {},
          "execution_count": 229
        }
      ]
    },
    {
      "cell_type": "code",
      "metadata": {
        "id": "vTSJ1MsHkSHN"
      },
      "source": [
        "df['POSTED_BY'] = df['POSTED_BY'].replace(to_replace=['Owner', 'Dealer','Builder'], value=[0, 1, 2])"
      ],
      "execution_count": null,
      "outputs": []
    },
    {
      "cell_type": "code",
      "metadata": {
        "colab": {
          "base_uri": "https://localhost:8080/",
          "height": 320
        },
        "id": "hXXsXmcU7MPM",
        "outputId": "fb10e997-e21c-4589-c983-92c4e86b0ec7"
      },
      "source": [
        "df.describe()"
      ],
      "execution_count": null,
      "outputs": [
        {
          "output_type": "execute_result",
          "data": {
            "text/html": [
              "<div>\n",
              "<style scoped>\n",
              "    .dataframe tbody tr th:only-of-type {\n",
              "        vertical-align: middle;\n",
              "    }\n",
              "\n",
              "    .dataframe tbody tr th {\n",
              "        vertical-align: top;\n",
              "    }\n",
              "\n",
              "    .dataframe thead th {\n",
              "        text-align: right;\n",
              "    }\n",
              "</style>\n",
              "<table border=\"1\" class=\"dataframe\">\n",
              "  <thead>\n",
              "    <tr style=\"text-align: right;\">\n",
              "      <th></th>\n",
              "      <th>POSTED_BY</th>\n",
              "      <th>UNDER_CONSTRUCTION</th>\n",
              "      <th>RERA</th>\n",
              "      <th>BHK_NO.</th>\n",
              "      <th>SQUARE_FT</th>\n",
              "      <th>RESALE</th>\n",
              "      <th>LONGITUDE</th>\n",
              "      <th>LATITUDE</th>\n",
              "      <th>TARGET(PRICE_IN_LACS)</th>\n",
              "    </tr>\n",
              "  </thead>\n",
              "  <tbody>\n",
              "    <tr>\n",
              "      <th>count</th>\n",
              "      <td>29451.000000</td>\n",
              "      <td>29451.000000</td>\n",
              "      <td>29451.000000</td>\n",
              "      <td>29451.000000</td>\n",
              "      <td>2.945100e+04</td>\n",
              "      <td>29451.000000</td>\n",
              "      <td>29451.000000</td>\n",
              "      <td>29451.000000</td>\n",
              "      <td>29451.000000</td>\n",
              "    </tr>\n",
              "    <tr>\n",
              "      <th>mean</th>\n",
              "      <td>0.663305</td>\n",
              "      <td>0.179756</td>\n",
              "      <td>0.317918</td>\n",
              "      <td>2.392279</td>\n",
              "      <td>1.980217e+04</td>\n",
              "      <td>0.929578</td>\n",
              "      <td>21.300255</td>\n",
              "      <td>76.837695</td>\n",
              "      <td>142.898746</td>\n",
              "    </tr>\n",
              "    <tr>\n",
              "      <th>std</th>\n",
              "      <td>0.515345</td>\n",
              "      <td>0.383991</td>\n",
              "      <td>0.465675</td>\n",
              "      <td>0.879091</td>\n",
              "      <td>1.901335e+06</td>\n",
              "      <td>0.255861</td>\n",
              "      <td>6.205306</td>\n",
              "      <td>10.557747</td>\n",
              "      <td>656.880713</td>\n",
              "    </tr>\n",
              "    <tr>\n",
              "      <th>min</th>\n",
              "      <td>0.000000</td>\n",
              "      <td>0.000000</td>\n",
              "      <td>0.000000</td>\n",
              "      <td>1.000000</td>\n",
              "      <td>3.000000e+00</td>\n",
              "      <td>0.000000</td>\n",
              "      <td>-37.713008</td>\n",
              "      <td>-121.761248</td>\n",
              "      <td>0.250000</td>\n",
              "    </tr>\n",
              "    <tr>\n",
              "      <th>25%</th>\n",
              "      <td>0.000000</td>\n",
              "      <td>0.000000</td>\n",
              "      <td>0.000000</td>\n",
              "      <td>2.000000</td>\n",
              "      <td>9.000211e+02</td>\n",
              "      <td>1.000000</td>\n",
              "      <td>18.452663</td>\n",
              "      <td>73.798100</td>\n",
              "      <td>38.000000</td>\n",
              "    </tr>\n",
              "    <tr>\n",
              "      <th>50%</th>\n",
              "      <td>1.000000</td>\n",
              "      <td>0.000000</td>\n",
              "      <td>0.000000</td>\n",
              "      <td>2.000000</td>\n",
              "      <td>1.175057e+03</td>\n",
              "      <td>1.000000</td>\n",
              "      <td>20.750000</td>\n",
              "      <td>77.324137</td>\n",
              "      <td>62.000000</td>\n",
              "    </tr>\n",
              "    <tr>\n",
              "      <th>75%</th>\n",
              "      <td>1.000000</td>\n",
              "      <td>0.000000</td>\n",
              "      <td>1.000000</td>\n",
              "      <td>3.000000</td>\n",
              "      <td>1.550688e+03</td>\n",
              "      <td>1.000000</td>\n",
              "      <td>26.900926</td>\n",
              "      <td>77.828740</td>\n",
              "      <td>100.000000</td>\n",
              "    </tr>\n",
              "    <tr>\n",
              "      <th>max</th>\n",
              "      <td>2.000000</td>\n",
              "      <td>1.000000</td>\n",
              "      <td>1.000000</td>\n",
              "      <td>20.000000</td>\n",
              "      <td>2.545455e+08</td>\n",
              "      <td>1.000000</td>\n",
              "      <td>59.912884</td>\n",
              "      <td>152.962676</td>\n",
              "      <td>30000.000000</td>\n",
              "    </tr>\n",
              "  </tbody>\n",
              "</table>\n",
              "</div>"
            ],
            "text/plain": [
              "          POSTED_BY  UNDER_CONSTRUCTION  ...      LATITUDE  TARGET(PRICE_IN_LACS)\n",
              "count  29451.000000        29451.000000  ...  29451.000000           29451.000000\n",
              "mean       0.663305            0.179756  ...     76.837695             142.898746\n",
              "std        0.515345            0.383991  ...     10.557747             656.880713\n",
              "min        0.000000            0.000000  ...   -121.761248               0.250000\n",
              "25%        0.000000            0.000000  ...     73.798100              38.000000\n",
              "50%        1.000000            0.000000  ...     77.324137              62.000000\n",
              "75%        1.000000            0.000000  ...     77.828740             100.000000\n",
              "max        2.000000            1.000000  ...    152.962676           30000.000000\n",
              "\n",
              "[8 rows x 9 columns]"
            ]
          },
          "metadata": {},
          "execution_count": 231
        }
      ]
    },
    {
      "cell_type": "code",
      "metadata": {
        "colab": {
          "base_uri": "https://localhost:8080/",
          "height": 407
        },
        "id": "boO03tuY7mHB",
        "outputId": "627d231a-b253-49f2-fbb4-1e524dfc2b11"
      },
      "source": [
        "plt.figure(figsize=(10,5))\n",
        "sns.distplot(df['TARGET(PRICE_IN_LACS)'])"
      ],
      "execution_count": null,
      "outputs": [
        {
          "output_type": "stream",
          "name": "stderr",
          "text": [
            "/usr/local/lib/python3.7/dist-packages/seaborn/distributions.py:2619: FutureWarning: `distplot` is a deprecated function and will be removed in a future version. Please adapt your code to use either `displot` (a figure-level function with similar flexibility) or `histplot` (an axes-level function for histograms).\n",
            "  warnings.warn(msg, FutureWarning)\n"
          ]
        },
        {
          "output_type": "execute_result",
          "data": {
            "text/plain": [
              "<matplotlib.axes._subplots.AxesSubplot at 0x7f5c67306d90>"
            ]
          },
          "metadata": {},
          "execution_count": 232
        },
        {
          "output_type": "display_data",
          "data": {
            "image/png": "[encoded data removed]",
            "text/plain": [
              "<Figure size 720x360 with 1 Axes>"
            ]
          },
          "metadata": {
            "needs_background": "light"
          }
        }
      ]
    },
    {
      "cell_type": "code",
      "metadata": {
        "colab": {
          "base_uri": "https://localhost:8080/"
        },
        "id": "MTetYGI2WhhM",
        "outputId": "f9ba446e-8a35-4faa-c292-dc6466024981"
      },
      "source": [
        "df['TARGET(PRICE_IN_LACS)'].value_counts()"
      ],
      "execution_count": null,
      "outputs": [
        {
          "output_type": "execute_result",
          "data": {
            "text/plain": [
              "110.0     795\n",
              "100.0     770\n",
              "120.0     652\n",
              "130.0     598\n",
              "45.0      583\n",
              "         ... \n",
              "96.6        1\n",
              "95.6        1\n",
              "8660.0      1\n",
              "94.3        1\n",
              "78.2        1\n",
              "Name: TARGET(PRICE_IN_LACS), Length: 1172, dtype: int64"
            ]
          },
          "metadata": {},
          "execution_count": 233
        }
      ]
    },
    {
      "cell_type": "code",
      "metadata": {
        "colab": {
          "base_uri": "https://localhost:8080/"
        },
        "id": "_SNlH5dhWrG2",
        "outputId": "0fae0d8c-b65b-4578-9f50-9129fb07f6bc"
      },
      "source": [
        "len(df)*(0.03)"
      ],
      "execution_count": null,
      "outputs": [
        {
          "output_type": "execute_result",
          "data": {
            "text/plain": [
              "883.53"
            ]
          },
          "metadata": {},
          "execution_count": 234
        }
      ]
    },
    {
      "cell_type": "code",
      "metadata": {
        "colab": {
          "base_uri": "https://localhost:8080/",
          "height": 320
        },
        "id": "IQrNteJ9XqMw",
        "outputId": "8004eb76-bc22-4aa5-b85d-fc00118219c0"
      },
      "source": [
        "# Remove the price outliers\n",
        "df= df.sort_values('TARGET(PRICE_IN_LACS)',ascending=False).iloc[884:] \n",
        "df.describe()"
      ],
      "execution_count": null,
      "outputs": [
        {
          "output_type": "execute_result",
          "data": {
            "text/html": [
              "<div>\n",
              "<style scoped>\n",
              "    .dataframe tbody tr th:only-of-type {\n",
              "        vertical-align: middle;\n",
              "    }\n",
              "\n",
              "    .dataframe tbody tr th {\n",
              "        vertical-align: top;\n",
              "    }\n",
              "\n",
              "    .dataframe thead th {\n",
              "        text-align: right;\n",
              "    }\n",
              "</style>\n",
              "<table border=\"1\" class=\"dataframe\">\n",
              "  <thead>\n",
              "    <tr style=\"text-align: right;\">\n",
              "      <th></th>\n",
              "      <th>POSTED_BY</th>\n",
              "      <th>UNDER_CONSTRUCTION</th>\n",
              "      <th>RERA</th>\n",
              "      <th>BHK_NO.</th>\n",
              "      <th>SQUARE_FT</th>\n",
              "      <th>RESALE</th>\n",
              "      <th>LONGITUDE</th>\n",
              "      <th>LATITUDE</th>\n",
              "      <th>TARGET(PRICE_IN_LACS)</th>\n",
              "    </tr>\n",
              "  </thead>\n",
              "  <tbody>\n",
              "    <tr>\n",
              "      <th>count</th>\n",
              "      <td>28567.000000</td>\n",
              "      <td>28567.000000</td>\n",
              "      <td>28567.000000</td>\n",
              "      <td>28567.000000</td>\n",
              "      <td>2.856700e+04</td>\n",
              "      <td>28567.000000</td>\n",
              "      <td>28567.000000</td>\n",
              "      <td>28567.000000</td>\n",
              "      <td>28567.000000</td>\n",
              "    </tr>\n",
              "    <tr>\n",
              "      <th>mean</th>\n",
              "      <td>0.653271</td>\n",
              "      <td>0.179298</td>\n",
              "      <td>0.315924</td>\n",
              "      <td>2.353450</td>\n",
              "      <td>1.542744e+03</td>\n",
              "      <td>0.933875</td>\n",
              "      <td>21.348115</td>\n",
              "      <td>76.926668</td>\n",
              "      <td>81.959182</td>\n",
              "    </tr>\n",
              "    <tr>\n",
              "      <th>std</th>\n",
              "      <td>0.518666</td>\n",
              "      <td>0.383608</td>\n",
              "      <td>0.464891</td>\n",
              "      <td>0.825286</td>\n",
              "      <td>2.666530e+04</td>\n",
              "      <td>0.248505</td>\n",
              "      <td>6.240020</td>\n",
              "      <td>10.457439</td>\n",
              "      <td>69.031482</td>\n",
              "    </tr>\n",
              "    <tr>\n",
              "      <th>min</th>\n",
              "      <td>0.000000</td>\n",
              "      <td>0.000000</td>\n",
              "      <td>0.000000</td>\n",
              "      <td>1.000000</td>\n",
              "      <td>3.000000e+00</td>\n",
              "      <td>0.000000</td>\n",
              "      <td>-37.713008</td>\n",
              "      <td>-121.761248</td>\n",
              "      <td>0.250000</td>\n",
              "    </tr>\n",
              "    <tr>\n",
              "      <th>25%</th>\n",
              "      <td>0.000000</td>\n",
              "      <td>0.000000</td>\n",
              "      <td>0.000000</td>\n",
              "      <td>2.000000</td>\n",
              "      <td>8.908686e+02</td>\n",
              "      <td>1.000000</td>\n",
              "      <td>18.438476</td>\n",
              "      <td>73.847780</td>\n",
              "      <td>37.000000</td>\n",
              "    </tr>\n",
              "    <tr>\n",
              "      <th>50%</th>\n",
              "      <td>1.000000</td>\n",
              "      <td>0.000000</td>\n",
              "      <td>0.000000</td>\n",
              "      <td>2.000000</td>\n",
              "      <td>1.156154e+03</td>\n",
              "      <td>1.000000</td>\n",
              "      <td>21.071623</td>\n",
              "      <td>77.338956</td>\n",
              "      <td>60.000000</td>\n",
              "    </tr>\n",
              "    <tr>\n",
              "      <th>75%</th>\n",
              "      <td>1.000000</td>\n",
              "      <td>0.000000</td>\n",
              "      <td>1.000000</td>\n",
              "      <td>3.000000</td>\n",
              "      <td>1.505131e+03</td>\n",
              "      <td>1.000000</td>\n",
              "      <td>26.900926</td>\n",
              "      <td>78.020000</td>\n",
              "      <td>100.000000</td>\n",
              "    </tr>\n",
              "    <tr>\n",
              "      <th>max</th>\n",
              "      <td>2.000000</td>\n",
              "      <td>1.000000</td>\n",
              "      <td>1.000000</td>\n",
              "      <td>20.000000</td>\n",
              "      <td>4.300000e+06</td>\n",
              "      <td>1.000000</td>\n",
              "      <td>59.912884</td>\n",
              "      <td>152.962676</td>\n",
              "      <td>420.000000</td>\n",
              "    </tr>\n",
              "  </tbody>\n",
              "</table>\n",
              "</div>"
            ],
            "text/plain": [
              "          POSTED_BY  UNDER_CONSTRUCTION  ...      LATITUDE  TARGET(PRICE_IN_LACS)\n",
              "count  28567.000000        28567.000000  ...  28567.000000           28567.000000\n",
              "mean       0.653271            0.179298  ...     76.926668              81.959182\n",
              "std        0.518666            0.383608  ...     10.457439              69.031482\n",
              "min        0.000000            0.000000  ...   -121.761248               0.250000\n",
              "25%        0.000000            0.000000  ...     73.847780              37.000000\n",
              "50%        1.000000            0.000000  ...     77.338956              60.000000\n",
              "75%        1.000000            0.000000  ...     78.020000             100.000000\n",
              "max        2.000000            1.000000  ...    152.962676             420.000000\n",
              "\n",
              "[8 rows x 9 columns]"
            ]
          },
          "metadata": {},
          "execution_count": 235
        }
      ]
    },
    {
      "cell_type": "code",
      "metadata": {
        "colab": {
          "base_uri": "https://localhost:8080/",
          "height": 352
        },
        "id": "NLFvpUAxXvV9",
        "outputId": "ddf573b0-bf76-4e6a-a86e-8a7ede42bad2"
      },
      "source": [
        "sns.distplot(df['TARGET(PRICE_IN_LACS)'])"
      ],
      "execution_count": null,
      "outputs": [
        {
          "output_type": "stream",
          "name": "stderr",
          "text": [
            "/usr/local/lib/python3.7/dist-packages/seaborn/distributions.py:2619: FutureWarning: `distplot` is a deprecated function and will be removed in a future version. Please adapt your code to use either `displot` (a figure-level function with similar flexibility) or `histplot` (an axes-level function for histograms).\n",
            "  warnings.warn(msg, FutureWarning)\n"
          ]
        },
        {
          "output_type": "execute_result",
          "data": {
            "text/plain": [
              "<matplotlib.axes._subplots.AxesSubplot at 0x7f5c672bb910>"
            ]
          },
          "metadata": {},
          "execution_count": 236
        },
        {
          "output_type": "display_data",
          "data": {
            "image/png": "[encoded data removed]",
            "text/plain": [
              "<Figure size 432x288 with 1 Axes>"
            ]
          },
          "metadata": {
            "needs_background": "light"
          }
        }
      ]
    },
    {
      "cell_type": "code",
      "metadata": {
        "colab": {
          "base_uri": "https://localhost:8080/",
          "height": 458
        },
        "id": "RLHsXKKkX0uR",
        "outputId": "55d6dec7-5c0a-49a3-a2b0-0d431e375721"
      },
      "source": [
        "plt.figure(figsize=(12,8))\n",
        "sns.scatterplot(x='LONGITUDE',y='LATITUDE',data=df,hue='TARGET(PRICE_IN_LACS)', \n",
        "                palette = 'RdYlGn', edgecolor = None, alpha = 0.2)"
      ],
      "execution_count": null,
      "outputs": [
        {
          "output_type": "execute_result",
          "data": {
            "text/plain": [
              "<matplotlib.axes._subplots.AxesSubplot at 0x7f5c68da8550>"
            ]
          },
          "metadata": {},
          "execution_count": 237
        },
        {
          "output_type": "display_data",
          "data": {
            "image/png": "[encoded data removed]",
            "text/plain": [
              "<Figure size 864x576 with 1 Axes>"
            ]
          },
          "metadata": {
            "needs_background": "light"
          }
        }
      ]
    },
    {
      "cell_type": "code",
      "metadata": {
        "colab": {
          "base_uri": "https://localhost:8080/",
          "height": 363
        },
        "id": "A30Uw6dGYPpZ",
        "outputId": "10b40d8e-282a-40d9-a045-c82ec424c353"
      },
      "source": [
        "sns.distplot(df['SQUARE_FT'])"
      ],
      "execution_count": null,
      "outputs": [
        {
          "output_type": "stream",
          "name": "stderr",
          "text": [
            "/usr/local/lib/python3.7/dist-packages/seaborn/distributions.py:2619: FutureWarning: `distplot` is a deprecated function and will be removed in a future version. Please adapt your code to use either `displot` (a figure-level function with similar flexibility) or `histplot` (an axes-level function for histograms).\n",
            "  warnings.warn(msg, FutureWarning)\n"
          ]
        },
        {
          "output_type": "execute_result",
          "data": {
            "text/plain": [
              "<matplotlib.axes._subplots.AxesSubplot at 0x7f5c699ad090>"
            ]
          },
          "metadata": {},
          "execution_count": 238
        },
        {
          "output_type": "display_data",
          "data": {
            "image/png": "[encoded data removed]",
            "text/plain": [
              "<Figure size 432x288 with 1 Axes>"
            ]
          },
          "metadata": {
            "needs_background": "light"
          }
        }
      ]
    },
    {
      "cell_type": "code",
      "metadata": {
        "colab": {
          "base_uri": "https://localhost:8080/"
        },
        "id": "ppOKjJ8wYgfd",
        "outputId": "d92c07a3-4511-4e10-ef6c-a537e21d2ec8"
      },
      "source": [
        "len(df)*(0.03)"
      ],
      "execution_count": null,
      "outputs": [
        {
          "output_type": "execute_result",
          "data": {
            "text/plain": [
              "857.01"
            ]
          },
          "metadata": {},
          "execution_count": 239
        }
      ]
    },
    {
      "cell_type": "code",
      "metadata": {
        "colab": {
          "base_uri": "https://localhost:8080/",
          "height": 320
        },
        "id": "nDu2BVkoYqfC",
        "outputId": "e2c0d87f-5182-4437-fe20-b120c14d95b1"
      },
      "source": [
        "# Cleaning the sqaure_ft outliers\n",
        "df = df.sort_values('SQUARE_FT',ascending=False).iloc[852:]\n",
        "df.describe()"
      ],
      "execution_count": null,
      "outputs": [
        {
          "output_type": "execute_result",
          "data": {
            "text/html": [
              "<div>\n",
              "<style scoped>\n",
              "    .dataframe tbody tr th:only-of-type {\n",
              "        vertical-align: middle;\n",
              "    }\n",
              "\n",
              "    .dataframe tbody tr th {\n",
              "        vertical-align: top;\n",
              "    }\n",
              "\n",
              "    .dataframe thead th {\n",
              "        text-align: right;\n",
              "    }\n",
              "</style>\n",
              "<table border=\"1\" class=\"dataframe\">\n",
              "  <thead>\n",
              "    <tr style=\"text-align: right;\">\n",
              "      <th></th>\n",
              "      <th>POSTED_BY</th>\n",
              "      <th>UNDER_CONSTRUCTION</th>\n",
              "      <th>RERA</th>\n",
              "      <th>BHK_NO.</th>\n",
              "      <th>SQUARE_FT</th>\n",
              "      <th>RESALE</th>\n",
              "      <th>LONGITUDE</th>\n",
              "      <th>LATITUDE</th>\n",
              "      <th>TARGET(PRICE_IN_LACS)</th>\n",
              "    </tr>\n",
              "  </thead>\n",
              "  <tbody>\n",
              "    <tr>\n",
              "      <th>count</th>\n",
              "      <td>27715.000000</td>\n",
              "      <td>27715.000000</td>\n",
              "      <td>27715.000000</td>\n",
              "      <td>27715.000000</td>\n",
              "      <td>27715.000000</td>\n",
              "      <td>27715.000000</td>\n",
              "      <td>27715.000000</td>\n",
              "      <td>27715.000000</td>\n",
              "      <td>27715.000000</td>\n",
              "    </tr>\n",
              "    <tr>\n",
              "      <th>mean</th>\n",
              "      <td>0.649396</td>\n",
              "      <td>0.180263</td>\n",
              "      <td>0.315136</td>\n",
              "      <td>2.304673</td>\n",
              "      <td>1197.120600</td>\n",
              "      <td>0.934187</td>\n",
              "      <td>21.309430</td>\n",
              "      <td>76.924631</td>\n",
              "      <td>77.612777</td>\n",
              "    </tr>\n",
              "    <tr>\n",
              "      <th>std</th>\n",
              "      <td>0.520011</td>\n",
              "      <td>0.384414</td>\n",
              "      <td>0.464578</td>\n",
              "      <td>0.749139</td>\n",
              "      <td>465.185990</td>\n",
              "      <td>0.247959</td>\n",
              "      <td>6.208328</td>\n",
              "      <td>10.452539</td>\n",
              "      <td>62.884893</td>\n",
              "    </tr>\n",
              "    <tr>\n",
              "      <th>min</th>\n",
              "      <td>0.000000</td>\n",
              "      <td>0.000000</td>\n",
              "      <td>0.000000</td>\n",
              "      <td>1.000000</td>\n",
              "      <td>3.000000</td>\n",
              "      <td>0.000000</td>\n",
              "      <td>-37.713008</td>\n",
              "      <td>-121.761248</td>\n",
              "      <td>0.250000</td>\n",
              "    </tr>\n",
              "    <tr>\n",
              "      <th>25%</th>\n",
              "      <td>0.000000</td>\n",
              "      <td>0.000000</td>\n",
              "      <td>0.000000</td>\n",
              "      <td>2.000000</td>\n",
              "      <td>876.111989</td>\n",
              "      <td>1.000000</td>\n",
              "      <td>18.441921</td>\n",
              "      <td>73.823649</td>\n",
              "      <td>36.000000</td>\n",
              "    </tr>\n",
              "    <tr>\n",
              "      <th>50%</th>\n",
              "      <td>1.000000</td>\n",
              "      <td>0.000000</td>\n",
              "      <td>0.000000</td>\n",
              "      <td>2.000000</td>\n",
              "      <td>1149.131767</td>\n",
              "      <td>1.000000</td>\n",
              "      <td>21.000000</td>\n",
              "      <td>77.338956</td>\n",
              "      <td>59.000000</td>\n",
              "    </tr>\n",
              "    <tr>\n",
              "      <th>75%</th>\n",
              "      <td>1.000000</td>\n",
              "      <td>0.000000</td>\n",
              "      <td>1.000000</td>\n",
              "      <td>3.000000</td>\n",
              "      <td>1470.155837</td>\n",
              "      <td>1.000000</td>\n",
              "      <td>26.900926</td>\n",
              "      <td>78.067294</td>\n",
              "      <td>95.000000</td>\n",
              "    </tr>\n",
              "    <tr>\n",
              "      <th>max</th>\n",
              "      <td>2.000000</td>\n",
              "      <td>1.000000</td>\n",
              "      <td>1.000000</td>\n",
              "      <td>20.000000</td>\n",
              "      <td>2713.090662</td>\n",
              "      <td>1.000000</td>\n",
              "      <td>59.912884</td>\n",
              "      <td>152.962676</td>\n",
              "      <td>420.000000</td>\n",
              "    </tr>\n",
              "  </tbody>\n",
              "</table>\n",
              "</div>"
            ],
            "text/plain": [
              "          POSTED_BY  UNDER_CONSTRUCTION  ...      LATITUDE  TARGET(PRICE_IN_LACS)\n",
              "count  27715.000000        27715.000000  ...  27715.000000           27715.000000\n",
              "mean       0.649396            0.180263  ...     76.924631              77.612777\n",
              "std        0.520011            0.384414  ...     10.452539              62.884893\n",
              "min        0.000000            0.000000  ...   -121.761248               0.250000\n",
              "25%        0.000000            0.000000  ...     73.823649              36.000000\n",
              "50%        1.000000            0.000000  ...     77.338956              59.000000\n",
              "75%        1.000000            0.000000  ...     78.067294              95.000000\n",
              "max        2.000000            1.000000  ...    152.962676             420.000000\n",
              "\n",
              "[8 rows x 9 columns]"
            ]
          },
          "metadata": {},
          "execution_count": 240
        }
      ]
    },
    {
      "cell_type": "code",
      "metadata": {
        "colab": {
          "base_uri": "https://localhost:8080/",
          "height": 352
        },
        "id": "D2gGMOUQYvek",
        "outputId": "c29b1dea-3a2d-4b1a-be07-d6ddc3d7d478"
      },
      "source": [
        "sns.distplot(df['SQUARE_FT'])"
      ],
      "execution_count": null,
      "outputs": [
        {
          "output_type": "stream",
          "name": "stderr",
          "text": [
            "/usr/local/lib/python3.7/dist-packages/seaborn/distributions.py:2619: FutureWarning: `distplot` is a deprecated function and will be removed in a future version. Please adapt your code to use either `displot` (a figure-level function with similar flexibility) or `histplot` (an axes-level function for histograms).\n",
            "  warnings.warn(msg, FutureWarning)\n"
          ]
        },
        {
          "output_type": "execute_result",
          "data": {
            "text/plain": [
              "<matplotlib.axes._subplots.AxesSubplot at 0x7f5c6d596e90>"
            ]
          },
          "metadata": {},
          "execution_count": 241
        },
        {
          "output_type": "display_data",
          "data": {
            "image/png": "[encoded data removed]",
            "text/plain": [
              "<Figure size 432x288 with 1 Axes>"
            ]
          },
          "metadata": {
            "needs_background": "light"
          }
        }
      ]
    },
    {
      "cell_type": "code",
      "metadata": {
        "id": "PGFtV33oYzeU"
      },
      "source": [
        "X_train = df.drop('TARGET(PRICE_IN_LACS)',axis=1).values\n",
        "Y_train = df['TARGET(PRICE_IN_LACS)'].values\n",
        "\n",
        "from sklearn.model_selection import train_test_split\n",
        "X_train, X_test, Y_train, Y_test = train_test_split(X_train,Y_train,test_size=0.1,random_state=42)"
      ],
      "execution_count": null,
      "outputs": []
    },
    {
      "cell_type": "code",
      "metadata": {
        "id": "epXQ5cj544hz"
      },
      "source": [
        "from sklearn.preprocessing import MinMaxScaler\n",
        "scaler = MinMaxScaler()\n",
        "X_train = scaler.fit_transform(X_train)\n",
        "X_test = scaler.transform(X_test)"
      ],
      "execution_count": null,
      "outputs": []
    },
    {
      "cell_type": "code",
      "metadata": {
        "colab": {
          "base_uri": "https://localhost:8080/"
        },
        "id": "r_fIhiUR49Jz",
        "outputId": "4cfb53b8-733d-46b4-81dc-daf3b0ef1c9f"
      },
      "source": [
        "X_train.shape"
      ],
      "execution_count": null,
      "outputs": [
        {
          "output_type": "execute_result",
          "data": {
            "text/plain": [
              "(24943, 8)"
            ]
          },
          "metadata": {},
          "execution_count": 244
        }
      ]
    },
    {
      "cell_type": "code",
      "metadata": {
        "colab": {
          "base_uri": "https://localhost:8080/"
        },
        "id": "htP_bRvwbDah",
        "outputId": "16e8d58e-45ce-41ba-b8ec-fd3accebf148"
      },
      "source": [
        "X_test.shape"
      ],
      "execution_count": null,
      "outputs": [
        {
          "output_type": "execute_result",
          "data": {
            "text/plain": [
              "(2772, 8)"
            ]
          },
          "metadata": {},
          "execution_count": 245
        }
      ]
    },
    {
      "cell_type": "code",
      "metadata": {
        "id": "Vxz627GYgYaM"
      },
      "source": [
        "from tensorflow.keras.models import Sequential\n",
        "from tensorflow.keras.layers import Dense"
      ],
      "execution_count": null,
      "outputs": []
    },
    {
      "cell_type": "code",
      "metadata": {
        "id": "aLU80DbhNGPu"
      },
      "source": [
        "model = Sequential()"
      ],
      "execution_count": null,
      "outputs": []
    },
    {
      "cell_type": "code",
      "metadata": {
        "id": "teqYGCGNPffd"
      },
      "source": [
        "model.add(Dense(16,activation='relu'))\n",
        "model.add(Dense(16,activation='relu'))\n",
        "model.add(Dense(16,activation='relu'))\n",
        "model.add(Dense(16,activation='relu'))\n",
        "\n",
        "model.add(Dense(1))\n",
        "model.compile(optimizer='adam',loss='mse')"
      ],
      "execution_count": null,
      "outputs": []
    },
    {
      "cell_type": "code",
      "metadata": {
        "colab": {
          "base_uri": "https://localhost:8080/"
        },
        "id": "FRqT2HivPiUj",
        "outputId": "24fb010a-ad25-4416-a992-22dc92510ba4"
      },
      "source": [
        "model.fit(x=X_train,y=Y_train,\n",
        "          validation_data=(X_test,Y_test),batch_size=128,epochs=100)"
      ],
      "execution_count": null,
      "outputs": [
        {
          "output_type": "stream",
          "name": "stdout",
          "text": [
            "Epoch 1/100\n",
            "195/195 [==============================] - 1s 2ms/step - loss: 7246.4414 - val_loss: 3531.6804\n",
            "Epoch 2/100\n",
            "195/195 [==============================] - 0s 2ms/step - loss: 3453.3491 - val_loss: 3303.5410\n",
            "Epoch 3/100\n",
            "195/195 [==============================] - 0s 2ms/step - loss: 3211.6130 - val_loss: 3088.7068\n",
            "Epoch 4/100\n",
            "195/195 [==============================] - 0s 2ms/step - loss: 3033.2832 - val_loss: 2957.1455\n",
            "Epoch 5/100\n",
            "195/195 [==============================] - 0s 2ms/step - loss: 2962.2336 - val_loss: 2890.0466\n",
            "Epoch 6/100\n",
            "195/195 [==============================] - 0s 2ms/step - loss: 2914.4814 - val_loss: 2856.2927\n",
            "Epoch 7/100\n",
            "195/195 [==============================] - 0s 2ms/step - loss: 2893.1494 - val_loss: 2846.4634\n",
            "Epoch 8/100\n",
            "195/195 [==============================] - 0s 2ms/step - loss: 2873.2957 - val_loss: 2846.0085\n",
            "Epoch 9/100\n",
            "195/195 [==============================] - 0s 2ms/step - loss: 2861.0125 - val_loss: 2800.3516\n",
            "Epoch 10/100\n",
            "195/195 [==============================] - 0s 2ms/step - loss: 2845.7000 - val_loss: 2784.3823\n",
            "Epoch 11/100\n",
            "195/195 [==============================] - 0s 2ms/step - loss: 2831.9727 - val_loss: 2770.1489\n",
            "Epoch 12/100\n",
            "195/195 [==============================] - 0s 2ms/step - loss: 2820.1184 - val_loss: 2755.9832\n",
            "Epoch 13/100\n",
            "195/195 [==============================] - 0s 2ms/step - loss: 2804.5400 - val_loss: 2756.3669\n",
            "Epoch 14/100\n",
            "195/195 [==============================] - 0s 2ms/step - loss: 2795.4211 - val_loss: 2745.7190\n",
            "Epoch 15/100\n",
            "195/195 [==============================] - 0s 2ms/step - loss: 2776.0391 - val_loss: 2738.7664\n",
            "Epoch 16/100\n",
            "195/195 [==============================] - 0s 2ms/step - loss: 2764.2683 - val_loss: 2697.8401\n",
            "Epoch 17/100\n",
            "195/195 [==============================] - 0s 2ms/step - loss: 2749.6658 - val_loss: 2703.0232\n",
            "Epoch 18/100\n",
            "195/195 [==============================] - 0s 2ms/step - loss: 2738.4639 - val_loss: 2677.4956\n",
            "Epoch 19/100\n",
            "195/195 [==============================] - 0s 2ms/step - loss: 2730.0435 - val_loss: 2674.4348\n",
            "Epoch 20/100\n",
            "195/195 [==============================] - 0s 2ms/step - loss: 2721.0022 - val_loss: 2668.4661\n",
            "Epoch 21/100\n",
            "195/195 [==============================] - 0s 2ms/step - loss: 2708.8008 - val_loss: 2652.0322\n",
            "Epoch 22/100\n",
            "195/195 [==============================] - 0s 2ms/step - loss: 2705.4844 - val_loss: 2639.6096\n",
            "Epoch 23/100\n",
            "195/195 [==============================] - 0s 2ms/step - loss: 2690.3979 - val_loss: 2657.6765\n",
            "Epoch 24/100\n",
            "195/195 [==============================] - 0s 2ms/step - loss: 2680.6260 - val_loss: 2615.6484\n",
            "Epoch 25/100\n",
            "195/195 [==============================] - 0s 2ms/step - loss: 2676.8687 - val_loss: 2657.6458\n",
            "Epoch 26/100\n",
            "195/195 [==============================] - 0s 2ms/step - loss: 2663.6509 - val_loss: 2600.2275\n",
            "Epoch 27/100\n",
            "195/195 [==============================] - 0s 2ms/step - loss: 2653.6855 - val_loss: 2597.2207\n",
            "Epoch 28/100\n",
            "195/195 [==============================] - 0s 2ms/step - loss: 2645.0298 - val_loss: 2590.3262\n",
            "Epoch 29/100\n",
            "195/195 [==============================] - 0s 2ms/step - loss: 2637.4299 - val_loss: 2574.5168\n",
            "Epoch 30/100\n",
            "195/195 [==============================] - 0s 2ms/step - loss: 2630.4297 - val_loss: 2570.3760\n",
            "Epoch 31/100\n",
            "195/195 [==============================] - 0s 2ms/step - loss: 2616.8530 - val_loss: 2578.1301\n",
            "Epoch 32/100\n",
            "195/195 [==============================] - 0s 2ms/step - loss: 2613.5630 - val_loss: 2620.9189\n",
            "Epoch 33/100\n",
            "195/195 [==============================] - 0s 2ms/step - loss: 2602.4978 - val_loss: 2549.5322\n",
            "Epoch 34/100\n",
            "195/195 [==============================] - 0s 2ms/step - loss: 2589.1218 - val_loss: 2542.4321\n",
            "Epoch 35/100\n",
            "195/195 [==============================] - 0s 2ms/step - loss: 2584.9585 - val_loss: 2528.7451\n",
            "Epoch 36/100\n",
            "195/195 [==============================] - 0s 2ms/step - loss: 2576.9175 - val_loss: 2543.0762\n",
            "Epoch 37/100\n",
            "195/195 [==============================] - 0s 2ms/step - loss: 2562.5044 - val_loss: 2521.0334\n",
            "Epoch 38/100\n",
            "195/195 [==============================] - 0s 2ms/step - loss: 2554.1140 - val_loss: 2494.0940\n",
            "Epoch 39/100\n",
            "195/195 [==============================] - 0s 2ms/step - loss: 2542.9053 - val_loss: 2489.8213\n",
            "Epoch 40/100\n",
            "195/195 [==============================] - 0s 2ms/step - loss: 2535.1736 - val_loss: 2509.9602\n",
            "Epoch 41/100\n",
            "195/195 [==============================] - 0s 2ms/step - loss: 2526.6868 - val_loss: 2473.2241\n",
            "Epoch 42/100\n",
            "195/195 [==============================] - 0s 2ms/step - loss: 2512.5789 - val_loss: 2494.1501\n",
            "Epoch 43/100\n",
            "195/195 [==============================] - 0s 2ms/step - loss: 2507.1323 - val_loss: 2459.7600\n",
            "Epoch 44/100\n",
            "195/195 [==============================] - 0s 2ms/step - loss: 2508.2483 - val_loss: 2458.0847\n",
            "Epoch 45/100\n",
            "195/195 [==============================] - 0s 2ms/step - loss: 2501.0168 - val_loss: 2448.3333\n",
            "Epoch 46/100\n",
            "195/195 [==============================] - 0s 2ms/step - loss: 2487.5803 - val_loss: 2427.2891\n",
            "Epoch 47/100\n",
            "195/195 [==============================] - 0s 2ms/step - loss: 2480.7043 - val_loss: 2465.1440\n",
            "Epoch 48/100\n",
            "195/195 [==============================] - 0s 2ms/step - loss: 2477.5056 - val_loss: 2421.9578\n",
            "Epoch 49/100\n",
            "195/195 [==============================] - 0s 2ms/step - loss: 2467.9773 - val_loss: 2544.5327\n",
            "Epoch 50/100\n",
            "195/195 [==============================] - 0s 2ms/step - loss: 2475.8508 - val_loss: 2412.6633\n",
            "Epoch 51/100\n",
            "195/195 [==============================] - 0s 2ms/step - loss: 2457.5437 - val_loss: 2479.6614\n",
            "Epoch 52/100\n",
            "195/195 [==============================] - 0s 2ms/step - loss: 2454.7383 - val_loss: 2401.0251\n",
            "Epoch 53/100\n",
            "195/195 [==============================] - 0s 2ms/step - loss: 2449.9282 - val_loss: 2442.2781\n",
            "Epoch 54/100\n",
            "195/195 [==============================] - 0s 2ms/step - loss: 2439.0071 - val_loss: 2385.4067\n",
            "Epoch 55/100\n",
            "195/195 [==============================] - 0s 2ms/step - loss: 2436.1021 - val_loss: 2425.2065\n",
            "Epoch 56/100\n",
            "195/195 [==============================] - 0s 2ms/step - loss: 2431.2314 - val_loss: 2390.0850\n",
            "Epoch 57/100\n",
            "195/195 [==============================] - 0s 2ms/step - loss: 2420.2109 - val_loss: 2376.8105\n",
            "Epoch 58/100\n",
            "195/195 [==============================] - 0s 2ms/step - loss: 2419.1003 - val_loss: 2369.0879\n",
            "Epoch 59/100\n",
            "195/195 [==============================] - 0s 2ms/step - loss: 2408.6772 - val_loss: 2355.9644\n",
            "Epoch 60/100\n",
            "195/195 [==============================] - 0s 2ms/step - loss: 2411.7717 - val_loss: 2370.5208\n",
            "Epoch 61/100\n",
            "195/195 [==============================] - 0s 2ms/step - loss: 2401.1458 - val_loss: 2361.0134\n",
            "Epoch 62/100\n",
            "195/195 [==============================] - 0s 2ms/step - loss: 2389.8357 - val_loss: 2346.4976\n",
            "Epoch 63/100\n",
            "195/195 [==============================] - 0s 2ms/step - loss: 2384.1101 - val_loss: 2334.7002\n",
            "Epoch 64/100\n",
            "195/195 [==============================] - 0s 2ms/step - loss: 2384.9685 - val_loss: 2338.9910\n",
            "Epoch 65/100\n",
            "195/195 [==============================] - 0s 2ms/step - loss: 2369.1228 - val_loss: 2376.9434\n",
            "Epoch 66/100\n",
            "195/195 [==============================] - 0s 2ms/step - loss: 2360.3418 - val_loss: 2310.8123\n",
            "Epoch 67/100\n",
            "195/195 [==============================] - 0s 2ms/step - loss: 2354.3252 - val_loss: 2310.7622\n",
            "Epoch 68/100\n",
            "195/195 [==============================] - 0s 2ms/step - loss: 2343.2395 - val_loss: 2292.0742\n",
            "Epoch 69/100\n",
            "195/195 [==============================] - 0s 2ms/step - loss: 2330.6526 - val_loss: 2308.9841\n",
            "Epoch 70/100\n",
            "195/195 [==============================] - 0s 2ms/step - loss: 2320.9937 - val_loss: 2297.6523\n",
            "Epoch 71/100\n",
            "195/195 [==============================] - 0s 2ms/step - loss: 2307.2512 - val_loss: 2281.7139\n",
            "Epoch 72/100\n",
            "195/195 [==============================] - 0s 2ms/step - loss: 2301.6382 - val_loss: 2344.7993\n",
            "Epoch 73/100\n",
            "195/195 [==============================] - 0s 2ms/step - loss: 2292.1951 - val_loss: 2232.3818\n",
            "Epoch 74/100\n",
            "195/195 [==============================] - 0s 2ms/step - loss: 2278.2822 - val_loss: 2313.9858\n",
            "Epoch 75/100\n",
            "195/195 [==============================] - 0s 2ms/step - loss: 2274.4937 - val_loss: 2294.0288\n",
            "Epoch 76/100\n",
            "195/195 [==============================] - 0s 2ms/step - loss: 2260.7625 - val_loss: 2213.1899\n",
            "Epoch 77/100\n",
            "195/195 [==============================] - 0s 2ms/step - loss: 2246.5811 - val_loss: 2213.4377\n",
            "Epoch 78/100\n",
            "195/195 [==============================] - 0s 2ms/step - loss: 2256.8083 - val_loss: 2190.9690\n",
            "Epoch 79/100\n",
            "195/195 [==============================] - 0s 2ms/step - loss: 2239.4763 - val_loss: 2185.4324\n",
            "Epoch 80/100\n",
            "195/195 [==============================] - 0s 2ms/step - loss: 2228.0725 - val_loss: 2239.6343\n",
            "Epoch 81/100\n",
            "195/195 [==============================] - 0s 2ms/step - loss: 2220.2278 - val_loss: 2187.2717\n",
            "Epoch 82/100\n",
            "195/195 [==============================] - 0s 2ms/step - loss: 2210.5667 - val_loss: 2202.3171\n",
            "Epoch 83/100\n",
            "195/195 [==============================] - 0s 2ms/step - loss: 2197.3542 - val_loss: 2182.2244\n",
            "Epoch 84/100\n",
            "195/195 [==============================] - 0s 2ms/step - loss: 2188.7727 - val_loss: 2152.1675\n",
            "Epoch 85/100\n",
            "195/195 [==============================] - 0s 2ms/step - loss: 2199.5703 - val_loss: 2162.7485\n",
            "Epoch 86/100\n",
            "195/195 [==============================] - 0s 2ms/step - loss: 2178.0237 - val_loss: 2173.1523\n",
            "Epoch 87/100\n",
            "195/195 [==============================] - 0s 2ms/step - loss: 2199.2769 - val_loss: 2166.1389\n",
            "Epoch 88/100\n",
            "195/195 [==============================] - 0s 2ms/step - loss: 2178.6033 - val_loss: 2156.4648\n",
            "Epoch 89/100\n",
            "195/195 [==============================] - 0s 2ms/step - loss: 2172.3120 - val_loss: 2143.5869\n",
            "Epoch 90/100\n",
            "195/195 [==============================] - 0s 2ms/step - loss: 2162.8684 - val_loss: 2151.8491\n",
            "Epoch 91/100\n",
            "195/195 [==============================] - 0s 2ms/step - loss: 2165.4919 - val_loss: 2208.6865\n",
            "Epoch 92/100\n",
            "195/195 [==============================] - 0s 2ms/step - loss: 2158.1931 - val_loss: 2174.0425\n",
            "Epoch 93/100\n",
            "195/195 [==============================] - 0s 2ms/step - loss: 2153.0769 - val_loss: 2235.8906\n",
            "Epoch 94/100\n",
            "195/195 [==============================] - 0s 2ms/step - loss: 2145.9294 - val_loss: 2144.6819\n",
            "Epoch 95/100\n",
            "195/195 [==============================] - 0s 2ms/step - loss: 2137.2969 - val_loss: 2129.2136\n",
            "Epoch 96/100\n",
            "195/195 [==============================] - 0s 2ms/step - loss: 2129.1780 - val_loss: 2113.5356\n",
            "Epoch 97/100\n",
            "195/195 [==============================] - 0s 2ms/step - loss: 2115.2495 - val_loss: 2121.3027\n",
            "Epoch 98/100\n",
            "195/195 [==============================] - 0s 2ms/step - loss: 2123.5757 - val_loss: 2123.4568\n",
            "Epoch 99/100\n",
            "195/195 [==============================] - 0s 2ms/step - loss: 2116.3423 - val_loss: 2139.0598\n",
            "Epoch 100/100\n",
            "195/195 [==============================] - 0s 2ms/step - loss: 2122.3599 - val_loss: 2117.2668\n"
          ]
        },
        {
          "output_type": "execute_result",
          "data": {
            "text/plain": [
              "<keras.callbacks.History at 0x7f5c4281b250>"
            ]
          },
          "metadata": {},
          "execution_count": 273
        }
      ]
    },
    {
      "cell_type": "code",
      "metadata": {
        "id": "40eNytWtyui6"
      },
      "source": [
        "losses = pd.DataFrame(model.history.history)\n",
        "losses.plot()  "
      ],
      "execution_count": null,
      "outputs": []
    }
  ]
}